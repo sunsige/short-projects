{
 "cells": [
  {
   "cell_type": "markdown",
   "metadata": {
    "id": "21XXWP7Fpt2L"
   },
   "source": [
    "# Superhero (and Supervillain) Name Generator\n",
    "\n",
    "---\n",
    "\n",
    "[Superhero Names Dataset](https://github.com/am1tyadav/superhero)\n",
    "\n",
    "This project aims to create a superhero name generator using TensorFlow. The goal is to train a neural network model on a dataset containing more than 9000 names of superheroes and supervillains from various comic books, TV shows, and movies. The trained model will then be able to generate new superhero names based on the patterns it learns from the dataset.\n",
    "\n",
    "## How it Works\n",
    "\n",
    "The project uses a character-level language model, where the neural network predicts the next character in a sequence given a seed input. The seed input can be a single character or a sequence of characters. The model generates a new character, adds it to the seed input, and uses the extended sequence to predict the next character. This process continues iteratively, creating a sequence of characters that eventually forms a superhero name.\n",
    "\n",
    "# Architecture\n",
    "In this project, we use a specific architecture for our superhero name generator. The architecture consists of several layers that process the input data and generate the superhero names. Here's a breakdown of the architecture:\n",
    "\n",
    "1. Embedding Layer (Embedding):\n",
    "\n",
    "- Input Shape: (None, 32)\n",
    "- Output Shape: (None, 32, 8)\n",
    "- Number of Parameters: 232\n",
    "\n",
    "2. Convolutional 1D Layer (Conv1D):\n",
    "\n",
    "- Input Shape: (None, 32, 8)\n",
    "- Output Shape: (None, 32, 64)\n",
    "- Number of Parameters: 2,624\n",
    "\n",
    "3. Max Pooling 1D Layer (MaxPooling1D):\n",
    "\n",
    "- Input Shape: (None, 32, 64)\n",
    "- Output Shape: (None, 16, 64)\n",
    "\n",
    "4. LSTM Layer (LSTM):\n",
    "\n",
    "- Input Shape: (None, 16, 64)\n",
    "- Output Shape: (None, 32)\n",
    "- Number of Parameters: 12,416\n",
    "\n",
    "5. Dense Layer (Dense):\n",
    "\n",
    "- Input Shape: (None, 32)\n",
    "- Output Shape: (None, 29)\n",
    "- Number of Parameters: 957\n",
    "\n",
    "This architecture takes a sequence of 32 characters as input and uses an embedding layer to convert each character into an 8-dimensional vector representation. The Conv1D layer applies a 1D convolution operation to the embedded sequence, followed by a max pooling operation to reduce the sequence length. The LSTM layer processes the pooled sequence and outputs a 32-dimensional representation. Finally, the Dense layer generates the output, predicting the next character in the sequence from a vocabulary of 29 characters (26 alphabet characters + 3 special characters)."
   ]
  },
  {
   "cell_type": "markdown",
   "metadata": {
    "id": "H6P0NU5Cpt2R"
   },
   "source": [
    "## Data and Tokenizer\n",
    "\n",
    "1. Import the data\n",
    "2. Create a tokenizer\n",
    "3. Char to index and Index to char dictionaries"
   ]
  },
  {
   "cell_type": "code",
   "execution_count": 1,
   "metadata": {
    "colab": {
     "base_uri": "https://localhost:8080/"
    },
    "executionInfo": {
     "elapsed": 1343,
     "status": "ok",
     "timestamp": 1735191891622,
     "user": {
      "displayName": "Sige Sun",
      "userId": "15200746423350413159"
     },
     "user_tz": -480
    },
    "id": "srULhalZpt2M",
    "outputId": "f20c3308-6249-4ab7-cad9-a1f8b6a54ff6"
   },
   "outputs": [
    {
     "name": "stdout",
     "output_type": "stream",
     "text": [
      "Cloning into 'superhero'...\n",
      "remote: Enumerating objects: 8, done.\u001b[K\n",
      "remote: Counting objects: 100% (8/8), done.\u001b[K\n",
      "remote: Compressing objects: 100% (7/7), done.\u001b[K\n",
      "remote: Total 8 (delta 0), reused 4 (delta 0), pack-reused 0 (from 0)\u001b[K\n",
      "Unpacking objects: 100% (8/8), done.\n"
     ]
    }
   ],
   "source": [
    "!git clone https://github.com/am1tyadav/superhero"
   ]
  },
  {
   "cell_type": "code",
   "execution_count": 2,
   "metadata": {
    "colab": {
     "base_uri": "https://localhost:8080/",
     "height": 37
    },
    "executionInfo": {
     "elapsed": 14,
     "status": "ok",
     "timestamp": 1735191891623,
     "user": {
      "displayName": "Sige Sun",
      "userId": "15200746423350413159"
     },
     "user_tz": -480
    },
    "id": "uq4CLmsLpt2P",
    "outputId": "1c659e6e-aa3c-4930-9501-024d93aa22aa"
   },
   "outputs": [
    {
     "data": {
      "text/plain": [
       "'jumpa\\t\\ndoctor fate\\t\\nstarlight\\t\\nisildur\\t\\nlasher\\t\\nvarvara\\t\\nthe target\\t\\naxel\\t\\nbattra\\t\\nchangeling\\t\\npyrrh'"
      ]
     },
     "execution_count": 2,
     "metadata": {},
     "output_type": "execute_result"
    }
   ],
   "source": [
    "with open('superhero/superheroes.txt', 'r') as f:\n",
    "  data = f.read()\n",
    "\n",
    "data[:100]"
   ]
  },
  {
   "cell_type": "code",
   "execution_count": 3,
   "metadata": {
    "colab": {
     "base_uri": "https://localhost:8080/"
    },
    "executionInfo": {
     "elapsed": 8494,
     "status": "ok",
     "timestamp": 1735191900107,
     "user": {
      "displayName": "Sige Sun",
      "userId": "15200746423350413159"
     },
     "user_tz": -480
    },
    "id": "JqhtLuAHpt2R",
    "outputId": "233dbef4-2dfe-4bf9-ede9-8a262934bb4d"
   },
   "outputs": [
    {
     "name": "stdout",
     "output_type": "stream",
     "text": [
      "2.17.0\n"
     ]
    }
   ],
   "source": [
    "import tensorflow as tf\n",
    "print(tf.__version__)"
   ]
  },
  {
   "cell_type": "code",
   "execution_count": 4,
   "metadata": {
    "executionInfo": {
     "elapsed": 6,
     "status": "ok",
     "timestamp": 1735191900108,
     "user": {
      "displayName": "Sige Sun",
      "userId": "15200746423350413159"
     },
     "user_tz": -480
    },
    "id": "95Lo1Yqzpt2T"
   },
   "outputs": [],
   "source": [
    "# tokenizer to convert characters to numbers to give a numeric representation to all character items in the library\n",
    "tokenizer = tf.keras.preprocessing.text.Tokenizer(\n",
    "    filters='!\"#$%&()*+,-./:;<=>?@[\\\\]^_`{|}~',\n",
    "    split='\\n',\n",
    ")"
   ]
  },
  {
   "cell_type": "code",
   "execution_count": 5,
   "metadata": {
    "executionInfo": {
     "elapsed": 1784,
     "status": "ok",
     "timestamp": 1735191901887,
     "user": {
      "displayName": "Sige Sun",
      "userId": "15200746423350413159"
     },
     "user_tz": -480
    },
    "id": "qYfC4sj2pt2V"
   },
   "outputs": [],
   "source": [
    "tokenizer.fit_on_texts(data)"
   ]
  },
  {
   "cell_type": "code",
   "execution_count": 6,
   "metadata": {
    "colab": {
     "base_uri": "https://localhost:8080/"
    },
    "executionInfo": {
     "elapsed": 23,
     "status": "ok",
     "timestamp": 1735191901888,
     "user": {
      "displayName": "Sige Sun",
      "userId": "15200746423350413159"
     },
     "user_tz": -480
    },
    "id": "EO4-dPM6pt2X",
    "outputId": "e0a73d73-f7b7-44f8-de74-fef7f36902e5"
   },
   "outputs": [
    {
     "name": "stdout",
     "output_type": "stream",
     "text": [
      "index_to_char: {1: '\\t', 2: 'a', 3: 'e', 4: 'r', 5: 'o', 6: 'n', 7: 'i', 8: ' ', 9: 't', 10: 's', 11: 'l', 12: 'm', 13: 'h', 14: 'd', 15: 'c', 16: 'u', 17: 'g', 18: 'k', 19: 'b', 20: 'p', 21: 'y', 22: 'w', 23: 'f', 24: 'v', 25: 'j', 26: 'z', 27: 'x', 28: 'q'}\n",
      "char_to_index: {'\\t': 1, 'a': 2, 'e': 3, 'r': 4, 'o': 5, 'n': 6, 'i': 7, ' ': 8, 't': 9, 's': 10, 'l': 11, 'm': 12, 'h': 13, 'd': 14, 'c': 15, 'u': 16, 'g': 17, 'k': 18, 'b': 19, 'p': 20, 'y': 21, 'w': 22, 'f': 23, 'v': 24, 'j': 25, 'z': 26, 'x': 27, 'q': 28}\n"
     ]
    }
   ],
   "source": [
    "char_to_index = tokenizer.word_index\n",
    "index_to_char = dict((v, k) for k, v in char_to_index.items())\n",
    "\n",
    "print(f\"index_to_char: {index_to_char}\")\n",
    "print(f\"char_to_index: {char_to_index}\")"
   ]
  },
  {
   "cell_type": "markdown",
   "metadata": {
    "id": "SMwtIw_Bpt2Z"
   },
   "source": [
    "## Names and Sequences\n",
    "\n",
    "1. Create helper functions to convert between names and sequences"
   ]
  },
  {
   "cell_type": "code",
   "execution_count": 7,
   "metadata": {
    "colab": {
     "base_uri": "https://localhost:8080/"
    },
    "executionInfo": {
     "elapsed": 16,
     "status": "ok",
     "timestamp": 1735191901888,
     "user": {
      "displayName": "Sige Sun",
      "userId": "15200746423350413159"
     },
     "user_tz": -480
    },
    "id": "N7iQLIXzpt2a",
    "outputId": "b60d4f5b-e7b8-4c5d-8692-f1396c573fb3"
   },
   "outputs": [
    {
     "data": {
      "text/plain": [
       "['jumpa\\t',\n",
       " 'doctor fate\\t',\n",
       " 'starlight\\t',\n",
       " 'isildur\\t',\n",
       " 'lasher\\t',\n",
       " 'varvara\\t',\n",
       " 'the target\\t',\n",
       " 'axel\\t',\n",
       " 'battra\\t',\n",
       " 'changeling\\t']"
      ]
     },
     "execution_count": 7,
     "metadata": {},
     "output_type": "execute_result"
    }
   ],
   "source": [
    "names = data.splitlines()\n",
    "names[:10]"
   ]
  },
  {
   "cell_type": "code",
   "execution_count": 8,
   "metadata": {
    "colab": {
     "base_uri": "https://localhost:8080/"
    },
    "executionInfo": {
     "elapsed": 14,
     "status": "ok",
     "timestamp": 1735191901888,
     "user": {
      "displayName": "Sige Sun",
      "userId": "15200746423350413159"
     },
     "user_tz": -480
    },
    "id": "n_-TTfqipt2c",
    "outputId": "6374ddb7-103a-4827-9ff8-227c08eb872e"
   },
   "outputs": [
    {
     "data": {
      "text/plain": [
       "[[25], [16], [12], [20], [2], [1]]"
      ]
     },
     "execution_count": 8,
     "metadata": {},
     "output_type": "execute_result"
    }
   ],
   "source": [
    "tokenizer.texts_to_sequences(names[0])"
   ]
  },
  {
   "cell_type": "code",
   "execution_count": 9,
   "metadata": {
    "executionInfo": {
     "elapsed": 12,
     "status": "ok",
     "timestamp": 1735191901888,
     "user": {
      "displayName": "Sige Sun",
      "userId": "15200746423350413159"
     },
     "user_tz": -480
    },
    "id": "P6IsKH1Upt2e"
   },
   "outputs": [],
   "source": [
    "def name_to_seq(name):\n",
    "  return [tokenizer.texts_to_sequences(c)[0][0] for c in name]"
   ]
  },
  {
   "cell_type": "code",
   "execution_count": 10,
   "metadata": {
    "colab": {
     "base_uri": "https://localhost:8080/"
    },
    "executionInfo": {
     "elapsed": 12,
     "status": "ok",
     "timestamp": 1735191901888,
     "user": {
      "displayName": "Sige Sun",
      "userId": "15200746423350413159"
     },
     "user_tz": -480
    },
    "id": "TuLUiMP3pt2g",
    "outputId": "60a73ff0-ff10-4032-9e18-63f94a5aea41"
   },
   "outputs": [
    {
     "data": {
      "text/plain": [
       "[25, 16, 12, 20, 2, 1]"
      ]
     },
     "execution_count": 10,
     "metadata": {},
     "output_type": "execute_result"
    }
   ],
   "source": [
    "name_to_seq(names[0])"
   ]
  },
  {
   "cell_type": "code",
   "execution_count": 11,
   "metadata": {
    "executionInfo": {
     "elapsed": 11,
     "status": "ok",
     "timestamp": 1735191901889,
     "user": {
      "displayName": "Sige Sun",
      "userId": "15200746423350413159"
     },
     "user_tz": -480
    },
    "id": "yFUYhimKpt2h"
   },
   "outputs": [],
   "source": [
    "def seq_to_name(seq):\n",
    "  return ''.join([index_to_char[i] for i in seq if i != 0])"
   ]
  },
  {
   "cell_type": "code",
   "execution_count": 12,
   "metadata": {
    "colab": {
     "base_uri": "https://localhost:8080/",
     "height": 37
    },
    "executionInfo": {
     "elapsed": 10,
     "status": "ok",
     "timestamp": 1735191901889,
     "user": {
      "displayName": "Sige Sun",
      "userId": "15200746423350413159"
     },
     "user_tz": -480
    },
    "id": "ROhCqmhLpt2k",
    "outputId": "b4aa699f-89a3-460e-c26b-3522cc7ccb78"
   },
   "outputs": [
    {
     "data": {
      "text/plain": [
       "'jumpa\\t'"
      ]
     },
     "execution_count": 12,
     "metadata": {},
     "output_type": "execute_result"
    }
   ],
   "source": [
    "seq_to_name(name_to_seq(names[0]))"
   ]
  },
  {
   "cell_type": "markdown",
   "metadata": {
    "id": "uCbAzsNjpt2m"
   },
   "source": [
    "## Creating Examples\n",
    "\n",
    "1. Creating sequences\n",
    "2. Padding all sequences"
   ]
  },
  {
   "cell_type": "code",
   "execution_count": 13,
   "metadata": {
    "executionInfo": {
     "elapsed": 2429,
     "status": "ok",
     "timestamp": 1735191904309,
     "user": {
      "displayName": "Sige Sun",
      "userId": "15200746423350413159"
     },
     "user_tz": -480
    },
    "id": "zstNn-0dpt2m"
   },
   "outputs": [],
   "source": [
    "sequences = []\n",
    "\n",
    "for name in names:\n",
    "  seq = name_to_seq(name)\n",
    "\n",
    "  # at least 2 characters in name\n",
    "  if len(seq) >= 2:\n",
    "    sequences += [seq[:i]for i in range(2, len(seq) + 1)]"
   ]
  },
  {
   "cell_type": "code",
   "execution_count": 14,
   "metadata": {
    "colab": {
     "base_uri": "https://localhost:8080/"
    },
    "executionInfo": {
     "elapsed": 15,
     "status": "ok",
     "timestamp": 1735191904310,
     "user": {
      "displayName": "Sige Sun",
      "userId": "15200746423350413159"
     },
     "user_tz": -480
    },
    "id": "BjRTMysvpt2o",
    "outputId": "f1c016d4-412f-487d-c612-1bc477008d5b"
   },
   "outputs": [
    {
     "data": {
      "text/plain": [
       "[[25, 16],\n",
       " [25, 16, 12],\n",
       " [25, 16, 12, 20],\n",
       " [25, 16, 12, 20, 2],\n",
       " [25, 16, 12, 20, 2, 1],\n",
       " [14, 5],\n",
       " [14, 5, 15],\n",
       " [14, 5, 15, 9],\n",
       " [14, 5, 15, 9, 5],\n",
       " [14, 5, 15, 9, 5, 4]]"
      ]
     },
     "execution_count": 14,
     "metadata": {},
     "output_type": "execute_result"
    }
   ],
   "source": [
    "sequences[:10]"
   ]
  },
  {
   "cell_type": "code",
   "execution_count": null,
   "metadata": {
    "colab": {
     "base_uri": "https://localhost:8080/"
    },
    "executionInfo": {
     "elapsed": 11,
     "status": "ok",
     "timestamp": 1735191904310,
     "user": {
      "displayName": "Sige Sun",
      "userId": "15200746423350413159"
     },
     "user_tz": -480
    },
    "id": "SR68pu2tpt2q",
    "outputId": "f1e0bc7f-7c5f-4129-a81c-0a3c299e81a6"
   },
   "outputs": [
    {
     "name": "stdout",
     "output_type": "stream",
     "text": [
      "padded sequences example: [ 0  0  0  0  0  0  0  0  0  0  0  0  0  0  0  0  0  0  0  0  0  0  0  0\n",
      "  0  0  0  0  0  0  0 25 16]\n",
      "padded sequences shape: (88279, 33)\n"
     ]
    }
   ],
   "source": [
    "# fixed length expected, so pad with 0's\n",
    "\n",
    "max_len = max([len(x) for x in sequences])\n",
    "\n",
    "padded_sequences = tf.keras.preprocessing.sequence.pad_sequences(\n",
    "    sequences, padding='pre',\n",
    "    maxlen=max_len\n",
    ")\n",
    "\n",
    "print(f\"padded sequences example: {padded_sequences[0]}\")\n",
    "print(f\"padded sequences shape: {padded_sequences.shape}\")"
   ]
  },
  {
   "cell_type": "code",
   "execution_count": 25,
   "metadata": {},
   "outputs": [
    {
     "name": "stdout",
     "output_type": "stream",
     "text": [
      "Max index in padded_sequences: 28\n",
      "Min index in padded_sequences: 0\n"
     ]
    }
   ],
   "source": [
    "print(\"Max index in padded_sequences:\", padded_sequences.max())\n",
    "print(\"Min index in padded_sequences:\", padded_sequences.min())"
   ]
  },
  {
   "cell_type": "markdown",
   "metadata": {
    "id": "93PvpH_j0ziG"
   },
   "source": [
    "## Training and Validation Sets\n",
    "\n",
    "1. Creating training and validation sets"
   ]
  },
  {
   "cell_type": "code",
   "execution_count": 16,
   "metadata": {
    "colab": {
     "base_uri": "https://localhost:8080/"
    },
    "executionInfo": {
     "elapsed": 8,
     "status": "ok",
     "timestamp": 1735191904310,
     "user": {
      "displayName": "Sige Sun",
      "userId": "15200746423350413159"
     },
     "user_tz": -480
    },
    "id": "BE4BIeSnpt2v",
    "outputId": "7970ef03-fa79-4723-aebd-cc472c357ed8"
   },
   "outputs": [
    {
     "name": "stdout",
     "output_type": "stream",
     "text": [
      "(88279, 32) (88279,)\n"
     ]
    }
   ],
   "source": [
    "x, y = padded_sequences[:, :-1], padded_sequences[:, -1]\n",
    "\n",
    "print(x.shape, y.shape)"
   ]
  },
  {
   "cell_type": "code",
   "execution_count": 17,
   "metadata": {
    "colab": {
     "base_uri": "https://localhost:8080/"
    },
    "executionInfo": {
     "elapsed": 3298,
     "status": "ok",
     "timestamp": 1735191907603,
     "user": {
      "displayName": "Sige Sun",
      "userId": "15200746423350413159"
     },
     "user_tz": -480
    },
    "id": "zZeZh1pE0ziG",
    "outputId": "68fc31fe-fc3d-485f-9658-cc2d06efff05"
   },
   "outputs": [
    {
     "name": "stdout",
     "output_type": "stream",
     "text": [
      "(66209, 32) (66209,)\n",
      "(22070, 32) (22070,)\n"
     ]
    }
   ],
   "source": [
    "from sklearn.model_selection import train_test_split\n",
    "\n",
    "x_train, x_test, y_train, y_test = train_test_split(x, y)\n",
    "\n",
    "print(x_train.shape, y_train.shape)\n",
    "print(x_test.shape, y_test.shape)"
   ]
  },
  {
   "cell_type": "code",
   "execution_count": 26,
   "metadata": {
    "colab": {
     "base_uri": "https://localhost:8080/"
    },
    "executionInfo": {
     "elapsed": 14,
     "status": "ok",
     "timestamp": 1735191907603,
     "user": {
      "displayName": "Sige Sun",
      "userId": "15200746423350413159"
     },
     "user_tz": -480
    },
    "id": "cgqRZtqnpt2x",
    "outputId": "e73a32f9-ca00-4daf-c3dc-875a63a24ac3"
   },
   "outputs": [
    {
     "name": "stdout",
     "output_type": "stream",
     "text": [
      "29\n"
     ]
    }
   ],
   "source": [
    "num_chars = len(char_to_index.keys())+1\n",
    "\n",
    "print(num_chars)"
   ]
  },
  {
   "cell_type": "markdown",
   "metadata": {
    "id": "vdl1XZRr0ziG"
   },
   "source": [
    "## Creating the Model"
   ]
  },
  {
   "cell_type": "code",
   "execution_count": 27,
   "metadata": {
    "colab": {
     "base_uri": "https://localhost:8080/",
     "height": 343
    },
    "executionInfo": {
     "elapsed": 12,
     "status": "ok",
     "timestamp": 1735191907603,
     "user": {
      "displayName": "Sige Sun",
      "userId": "15200746423350413159"
     },
     "user_tz": -480
    },
    "id": "FDQniqu70ziH",
    "outputId": "64eee834-5adf-4dbd-c12d-09f33d72078e"
   },
   "outputs": [
    {
     "data": {
      "text/html": [
       "<pre style=\"white-space:pre;overflow-x:auto;line-height:normal;font-family:Menlo,'DejaVu Sans Mono',consolas,'Courier New',monospace\"><span style=\"font-weight: bold\">Model: \"sequential_1\"</span>\n",
       "</pre>\n"
      ],
      "text/plain": [
       "\u001b[1mModel: \"sequential_1\"\u001b[0m\n"
      ]
     },
     "metadata": {},
     "output_type": "display_data"
    },
    {
     "data": {
      "text/html": [
       "<pre style=\"white-space:pre;overflow-x:auto;line-height:normal;font-family:Menlo,'DejaVu Sans Mono',consolas,'Courier New',monospace\">┏━━━━━━━━━━━━━━━━━━━━━━━━━━━━━━━━━┳━━━━━━━━━━━━━━━━━━━━━━━━┳━━━━━━━━━━━━━━━┓\n",
       "┃<span style=\"font-weight: bold\"> Layer (type)                    </span>┃<span style=\"font-weight: bold\"> Output Shape           </span>┃<span style=\"font-weight: bold\">       Param # </span>┃\n",
       "┡━━━━━━━━━━━━━━━━━━━━━━━━━━━━━━━━━╇━━━━━━━━━━━━━━━━━━━━━━━━╇━━━━━━━━━━━━━━━┩\n",
       "│ embedding_1 (<span style=\"color: #0087ff; text-decoration-color: #0087ff\">Embedding</span>)         │ ?                      │   <span style=\"color: #00af00; text-decoration-color: #00af00\">0</span> (unbuilt) │\n",
       "├─────────────────────────────────┼────────────────────────┼───────────────┤\n",
       "│ conv1d_1 (<span style=\"color: #0087ff; text-decoration-color: #0087ff\">Conv1D</span>)               │ ?                      │   <span style=\"color: #00af00; text-decoration-color: #00af00\">0</span> (unbuilt) │\n",
       "├─────────────────────────────────┼────────────────────────┼───────────────┤\n",
       "│ max_pooling1d_1 (<span style=\"color: #0087ff; text-decoration-color: #0087ff\">MaxPooling1D</span>)  │ ?                      │   <span style=\"color: #00af00; text-decoration-color: #00af00\">0</span> (unbuilt) │\n",
       "├─────────────────────────────────┼────────────────────────┼───────────────┤\n",
       "│ lstm_1 (<span style=\"color: #0087ff; text-decoration-color: #0087ff\">LSTM</span>)                   │ ?                      │   <span style=\"color: #00af00; text-decoration-color: #00af00\">0</span> (unbuilt) │\n",
       "├─────────────────────────────────┼────────────────────────┼───────────────┤\n",
       "│ dense_1 (<span style=\"color: #0087ff; text-decoration-color: #0087ff\">Dense</span>)                 │ ?                      │   <span style=\"color: #00af00; text-decoration-color: #00af00\">0</span> (unbuilt) │\n",
       "└─────────────────────────────────┴────────────────────────┴───────────────┘\n",
       "</pre>\n"
      ],
      "text/plain": [
       "┏━━━━━━━━━━━━━━━━━━━━━━━━━━━━━━━━━┳━━━━━━━━━━━━━━━━━━━━━━━━┳━━━━━━━━━━━━━━━┓\n",
       "┃\u001b[1m \u001b[0m\u001b[1mLayer (type)                   \u001b[0m\u001b[1m \u001b[0m┃\u001b[1m \u001b[0m\u001b[1mOutput Shape          \u001b[0m\u001b[1m \u001b[0m┃\u001b[1m \u001b[0m\u001b[1m      Param #\u001b[0m\u001b[1m \u001b[0m┃\n",
       "┡━━━━━━━━━━━━━━━━━━━━━━━━━━━━━━━━━╇━━━━━━━━━━━━━━━━━━━━━━━━╇━━━━━━━━━━━━━━━┩\n",
       "│ embedding_1 (\u001b[38;5;33mEmbedding\u001b[0m)         │ ?                      │   \u001b[38;5;34m0\u001b[0m (unbuilt) │\n",
       "├─────────────────────────────────┼────────────────────────┼───────────────┤\n",
       "│ conv1d_1 (\u001b[38;5;33mConv1D\u001b[0m)               │ ?                      │   \u001b[38;5;34m0\u001b[0m (unbuilt) │\n",
       "├─────────────────────────────────┼────────────────────────┼───────────────┤\n",
       "│ max_pooling1d_1 (\u001b[38;5;33mMaxPooling1D\u001b[0m)  │ ?                      │   \u001b[38;5;34m0\u001b[0m (unbuilt) │\n",
       "├─────────────────────────────────┼────────────────────────┼───────────────┤\n",
       "│ lstm_1 (\u001b[38;5;33mLSTM\u001b[0m)                   │ ?                      │   \u001b[38;5;34m0\u001b[0m (unbuilt) │\n",
       "├─────────────────────────────────┼────────────────────────┼───────────────┤\n",
       "│ dense_1 (\u001b[38;5;33mDense\u001b[0m)                 │ ?                      │   \u001b[38;5;34m0\u001b[0m (unbuilt) │\n",
       "└─────────────────────────────────┴────────────────────────┴───────────────┘\n"
      ]
     },
     "metadata": {},
     "output_type": "display_data"
    },
    {
     "data": {
      "text/html": [
       "<pre style=\"white-space:pre;overflow-x:auto;line-height:normal;font-family:Menlo,'DejaVu Sans Mono',consolas,'Courier New',monospace\"><span style=\"font-weight: bold\"> Total params: </span><span style=\"color: #00af00; text-decoration-color: #00af00\">0</span> (0.00 B)\n",
       "</pre>\n"
      ],
      "text/plain": [
       "\u001b[1m Total params: \u001b[0m\u001b[38;5;34m0\u001b[0m (0.00 B)\n"
      ]
     },
     "metadata": {},
     "output_type": "display_data"
    },
    {
     "data": {
      "text/html": [
       "<pre style=\"white-space:pre;overflow-x:auto;line-height:normal;font-family:Menlo,'DejaVu Sans Mono',consolas,'Courier New',monospace\"><span style=\"font-weight: bold\"> Trainable params: </span><span style=\"color: #00af00; text-decoration-color: #00af00\">0</span> (0.00 B)\n",
       "</pre>\n"
      ],
      "text/plain": [
       "\u001b[1m Trainable params: \u001b[0m\u001b[38;5;34m0\u001b[0m (0.00 B)\n"
      ]
     },
     "metadata": {},
     "output_type": "display_data"
    },
    {
     "data": {
      "text/html": [
       "<pre style=\"white-space:pre;overflow-x:auto;line-height:normal;font-family:Menlo,'DejaVu Sans Mono',consolas,'Courier New',monospace\"><span style=\"font-weight: bold\"> Non-trainable params: </span><span style=\"color: #00af00; text-decoration-color: #00af00\">0</span> (0.00 B)\n",
       "</pre>\n"
      ],
      "text/plain": [
       "\u001b[1m Non-trainable params: \u001b[0m\u001b[38;5;34m0\u001b[0m (0.00 B)\n"
      ]
     },
     "metadata": {},
     "output_type": "display_data"
    }
   ],
   "source": [
    "from tensorflow.keras.models import Sequential\n",
    "from tensorflow.keras.layers import Embedding, Conv1D, MaxPool1D, LSTM, Bidirectional, Dense\n",
    "\n",
    "model = Sequential([\n",
    "    # because this is a small vocabulary, 8 or 16 should suffice for feature representation\n",
    "    Embedding(num_chars, 16, input_length=max_len-1),\n",
    "\n",
    "    # padding: options of calid, causal, or same\n",
    "    # for causal, temporal order is not violated -- any output at a particular timestep is only dependent on the input before that timestep\n",
    "    Conv1D(64, 5, strides=1, activation='tanh', padding='causal'),\n",
    "\n",
    "    MaxPool1D(2),\n",
    "    LSTM(32),\n",
    "    Dense(num_chars, activation='softmax')\n",
    "])\n",
    "\n",
    "model.compile(\n",
    "    loss='sparse_categorical_crossentropy',\n",
    "    optimizer='adam',\n",
    "    metrics=['accuracy']\n",
    ")\n",
    "\n",
    "model.summary()"
   ]
  },
  {
   "cell_type": "markdown",
   "metadata": {
    "id": "Tr_krzw50ziH"
   },
   "source": [
    "## Training the Model"
   ]
  },
  {
   "cell_type": "code",
   "execution_count": 32,
   "metadata": {
    "colab": {
     "base_uri": "https://localhost:8080/"
    },
    "executionInfo": {
     "elapsed": 212837,
     "status": "ok",
     "timestamp": 1735192120432,
     "user": {
      "displayName": "Sige Sun",
      "userId": "15200746423350413159"
     },
     "user_tz": -480
    },
    "id": "j0Ssl4qupt22",
    "outputId": "2b2ae19f-a4d0-4823-8e8a-b7f8778486e4"
   },
   "outputs": [
    {
     "name": "stdout",
     "output_type": "stream",
     "text": [
      "Epoch 1/80\n",
      "2070/2070 - 9s - 4ms/step - accuracy: 0.4498 - loss: 1.8314 - val_accuracy: 0.3759 - val_loss: 2.2099\n",
      "Epoch 2/80\n",
      "2070/2070 - 9s - 5ms/step - accuracy: 0.4501 - loss: 1.8284 - val_accuracy: 0.3771 - val_loss: 2.2050\n",
      "Epoch 3/80\n",
      "2070/2070 - 9s - 5ms/step - accuracy: 0.4510 - loss: 1.8255 - val_accuracy: 0.3793 - val_loss: 2.2044\n",
      "Epoch 4/80\n",
      "2070/2070 - 10s - 5ms/step - accuracy: 0.4536 - loss: 1.8226 - val_accuracy: 0.3762 - val_loss: 2.2122\n",
      "Epoch 5/80\n",
      "2070/2070 - 9s - 5ms/step - accuracy: 0.4529 - loss: 1.8195 - val_accuracy: 0.3778 - val_loss: 2.2160\n",
      "Epoch 6/80\n",
      "2070/2070 - 9s - 5ms/step - accuracy: 0.4540 - loss: 1.8175 - val_accuracy: 0.3763 - val_loss: 2.2130\n",
      "Epoch 7/80\n",
      "2070/2070 - 10s - 5ms/step - accuracy: 0.4563 - loss: 1.8150 - val_accuracy: 0.3792 - val_loss: 2.2135\n",
      "Epoch 8/80\n",
      "2070/2070 - 10s - 5ms/step - accuracy: 0.4549 - loss: 1.8121 - val_accuracy: 0.3762 - val_loss: 2.2150\n",
      "Epoch 9/80\n",
      "2070/2070 - 10s - 5ms/step - accuracy: 0.4565 - loss: 1.8102 - val_accuracy: 0.3797 - val_loss: 2.2139\n",
      "Epoch 10/80\n",
      "2070/2070 - 9s - 5ms/step - accuracy: 0.4565 - loss: 1.8077 - val_accuracy: 0.3759 - val_loss: 2.2188\n",
      "Epoch 11/80\n",
      "2070/2070 - 9s - 4ms/step - accuracy: 0.4583 - loss: 1.8052 - val_accuracy: 0.3799 - val_loss: 2.2221\n",
      "Epoch 12/80\n",
      "2070/2070 - 9s - 4ms/step - accuracy: 0.4575 - loss: 1.8032 - val_accuracy: 0.3813 - val_loss: 2.2225\n",
      "Epoch 13/80\n",
      "2070/2070 - 9s - 4ms/step - accuracy: 0.4594 - loss: 1.8006 - val_accuracy: 0.3762 - val_loss: 2.2271\n",
      "Epoch 14/80\n",
      "2070/2070 - 11s - 5ms/step - accuracy: 0.4596 - loss: 1.7994 - val_accuracy: 0.3836 - val_loss: 2.2216\n",
      "Epoch 15/80\n",
      "2070/2070 - 9s - 5ms/step - accuracy: 0.4614 - loss: 1.7968 - val_accuracy: 0.3777 - val_loss: 2.2279\n",
      "Epoch 16/80\n",
      "2070/2070 - 10s - 5ms/step - accuracy: 0.4603 - loss: 1.7944 - val_accuracy: 0.3801 - val_loss: 2.2239\n",
      "Epoch 17/80\n",
      "2070/2070 - 9s - 5ms/step - accuracy: 0.4607 - loss: 1.7923 - val_accuracy: 0.3838 - val_loss: 2.2258\n",
      "Epoch 18/80\n",
      "2070/2070 - 9s - 5ms/step - accuracy: 0.4631 - loss: 1.7911 - val_accuracy: 0.3793 - val_loss: 2.2321\n",
      "Epoch 19/80\n",
      "2070/2070 - 9s - 5ms/step - accuracy: 0.4626 - loss: 1.7883 - val_accuracy: 0.3806 - val_loss: 2.2304\n",
      "Epoch 20/80\n",
      "2070/2070 - 9s - 5ms/step - accuracy: 0.4638 - loss: 1.7868 - val_accuracy: 0.3840 - val_loss: 2.2308\n",
      "Epoch 21/80\n",
      "2070/2070 - 9s - 5ms/step - accuracy: 0.4638 - loss: 1.7848 - val_accuracy: 0.3790 - val_loss: 2.2342\n",
      "Epoch 22/80\n",
      "2070/2070 - 11s - 5ms/step - accuracy: 0.4635 - loss: 1.7828 - val_accuracy: 0.3778 - val_loss: 2.2382\n",
      "Epoch 23/80\n",
      "2070/2070 - 9s - 5ms/step - accuracy: 0.4649 - loss: 1.7815 - val_accuracy: 0.3829 - val_loss: 2.2332\n",
      "Epoch 24/80\n",
      "2070/2070 - 10s - 5ms/step - accuracy: 0.4653 - loss: 1.7794 - val_accuracy: 0.3813 - val_loss: 2.2390\n",
      "Epoch 25/80\n",
      "2070/2070 - 9s - 5ms/step - accuracy: 0.4655 - loss: 1.7784 - val_accuracy: 0.3814 - val_loss: 2.2361\n",
      "Epoch 26/80\n",
      "2070/2070 - 9s - 4ms/step - accuracy: 0.4657 - loss: 1.7755 - val_accuracy: 0.3793 - val_loss: 2.2385\n",
      "Epoch 27/80\n",
      "2070/2070 - 9s - 4ms/step - accuracy: 0.4669 - loss: 1.7744 - val_accuracy: 0.3799 - val_loss: 2.2425\n",
      "Epoch 28/80\n",
      "2070/2070 - 9s - 4ms/step - accuracy: 0.4674 - loss: 1.7722 - val_accuracy: 0.3812 - val_loss: 2.2393\n",
      "Epoch 29/80\n",
      "2070/2070 - 9s - 4ms/step - accuracy: 0.4675 - loss: 1.7710 - val_accuracy: 0.3792 - val_loss: 2.2438\n",
      "Epoch 30/80\n",
      "2070/2070 - 9s - 4ms/step - accuracy: 0.4681 - loss: 1.7687 - val_accuracy: 0.3804 - val_loss: 2.2451\n"
     ]
    }
   ],
   "source": [
    "h = model.fit(\n",
    "    x_train, y_train,\n",
    "    validation_data=(x_test, y_test),\n",
    "    epochs=80, verbose=2,\n",
    "    callbacks=[\n",
    "        tf.keras.callbacks.EarlyStopping(monitor='val_accuracy', patience=10)\n",
    "    ]\n",
    ")"
   ]
  },
  {
   "cell_type": "code",
   "execution_count": 33,
   "metadata": {
    "colab": {
     "base_uri": "https://localhost:8080/",
     "height": 430
    },
    "executionInfo": {
     "elapsed": 9,
     "status": "ok",
     "timestamp": 1735192120432,
     "user": {
      "displayName": "Sige Sun",
      "userId": "15200746423350413159"
     },
     "user_tz": -480
    },
    "id": "LD-ywY54EE_A",
    "outputId": "d0717332-c0a9-47de-cc94-4fd0b06d446f"
   },
   "outputs": [
    {
     "data": {
      "image/png": "[encoded data removed]",
      "text/plain": [
       "<Figure size 640x480 with 1 Axes>"
      ]
     },
     "metadata": {},
     "output_type": "display_data"
    }
   ],
   "source": [
    "from matplotlib import pyplot as plt\n",
    "\n",
    "epochs_ran = len(h.history['loss'])\n",
    "\n",
    "plt.plot(range(0, epochs_ran), h.history['val_accuracy'], label='Validation')\n",
    "plt.plot(range(0, epochs_ran), h.history['accuracy'], label='Training')\n",
    "plt.legend()\n",
    "plt.show()"
   ]
  },
  {
   "cell_type": "markdown",
   "metadata": {
    "id": "UndnHwsD0ziH"
   },
   "source": [
    "## Generate Names!"
   ]
  },
  {
   "cell_type": "code",
   "execution_count": 34,
   "metadata": {
    "executionInfo": {
     "elapsed": 369,
     "status": "ok",
     "timestamp": 1735192309492,
     "user": {
      "displayName": "Sige Sun",
      "userId": "15200746423350413159"
     },
     "user_tz": -480
    },
    "id": "9f50aTRcpt24"
   },
   "outputs": [],
   "source": [
    "def generate_names(seed):\n",
    "  # seed could be a single character or sequence of characters\n",
    "  for i in range(40):\n",
    "    # only predict until tab character, i.e., end of name\n",
    "    seq = name_to_seq(seed)\n",
    "    print(f\"seq: {seq}\")\n",
    "    padded = tf.keras.preprocessing.sequence.pad_sequences([seq],\n",
    "                                                           padding='pre',\n",
    "                                                           maxlen=max_len-1,\n",
    "                                                           truncating='pre'\n",
    "                                                           )\n",
    "    print(f\"padded: {padded}\")\n",
    "    pred = model.predict(padded)[0]\n",
    "    print(f\"pred: {pred}\")\n",
    "    pred_char = index_to_char[tf.argmax(pred).numpy()]\n",
    "\n",
    "    if pred_char == '\\t':\n",
    "      break\n",
    "    seed += pred_char\n",
    "    print(f\"Seed: {seed}\")"
   ]
  },
  {
   "cell_type": "code",
   "execution_count": 36,
   "metadata": {
    "colab": {
     "base_uri": "https://localhost:8080/",
     "height": 405
    },
    "executionInfo": {
     "elapsed": 936,
     "status": "error",
     "timestamp": 1735192303120,
     "user": {
      "displayName": "Sige Sun",
      "userId": "15200746423350413159"
     },
     "user_tz": -480
    },
    "id": "faQ0FInlpt26",
    "outputId": "ddf7d776-934b-4d7b-83ad-9470e202ddbf"
   },
   "outputs": [
    {
     "name": "stdout",
     "output_type": "stream",
     "text": [
      "seq: [19]\n",
      "padded: [[ 0  0  0  0  0  0  0  0  0  0  0  0  0  0  0  0  0  0  0  0  0  0  0  0\n",
      "   0  0  0  0  0  0  0 19]]\n",
      "\u001b[1m1/1\u001b[0m \u001b[32m━━━━━━━━━━━━━━━━━━━━\u001b[0m\u001b[37m\u001b[0m \u001b[1m0s\u001b[0m 13ms/step\n",
      "pred: [4.8234619e-12 3.4190348e-04 2.3865703e-01 1.4122936e-01 1.0141032e-01\n",
      " 8.4374502e-02 1.7335910e-03 9.8268047e-02 1.1377372e-04 2.2124573e-06\n",
      " 1.1951696e-04 2.6606354e-01 1.0767103e-03 6.2932684e-03 9.4555711e-05\n",
      " 2.7374930e-05 4.4910740e-02 5.0393079e-04 6.7073481e-05 1.7209507e-03\n",
      " 4.6896671e-06 7.9175476e-03 6.1160536e-04 1.4694439e-03 1.6211061e-03\n",
      " 1.1538776e-03 1.9890090e-04 1.4473750e-05 5.6503048e-08]\n",
      "Seed: bl\n",
      "seq: [19, 11]\n",
      "padded: [[ 0  0  0  0  0  0  0  0  0  0  0  0  0  0  0  0  0  0  0  0  0  0  0  0\n",
      "   0  0  0  0  0  0 19 11]]\n",
      "\u001b[1m1/1\u001b[0m \u001b[32m━━━━━━━━━━━━━━━━━━━━\u001b[0m\u001b[37m\u001b[0m \u001b[1m0s\u001b[0m 13ms/step\n",
      "pred: [5.9892819e-15 9.3959774e-05 6.3555455e-01 2.6221490e-02 1.5777645e-03\n",
      " 1.2811573e-01 2.1468954e-06 6.6366836e-02 7.9543701e-05 3.9437623e-06\n",
      " 1.0739987e-05 1.3284634e-03 7.4188858e-05 2.4635746e-04 2.5797399e-07\n",
      " 9.5059495e-06 1.3754781e-01 2.8455690e-06 5.3418600e-05 5.5623048e-05\n",
      " 4.9574483e-06 2.6097947e-03 2.5962181e-06 6.7999775e-07 9.0786025e-06\n",
      " 2.2363103e-05 5.3522394e-06 9.2611756e-08 4.5927693e-09]\n",
      "Seed: bla\n",
      "seq: [19, 11, 2]\n",
      "padded: [[ 0  0  0  0  0  0  0  0  0  0  0  0  0  0  0  0  0  0  0  0  0  0  0  0\n",
      "   0  0  0  0  0 19 11  2]]\n",
      "\u001b[1m1/1\u001b[0m \u001b[32m━━━━━━━━━━━━━━━━━━━━\u001b[0m\u001b[37m\u001b[0m \u001b[1m0s\u001b[0m 13ms/step\n",
      "pred: [1.12902851e-13 1.62533042e-03 7.65638601e-04 5.28517403e-02\n",
      " 3.52820707e-03 5.78956027e-03 4.19379957e-02 3.48635251e-04\n",
      " 1.43319834e-03 1.68482866e-02 1.53825684e-02 5.55673440e-04\n",
      " 1.49516165e-02 4.29357809e-04 7.35501805e-03 7.57782102e-01\n",
      " 1.53003144e-03 3.67711559e-02 1.01423189e-02 3.65455635e-03\n",
      " 8.70342646e-03 6.44784013e-04 2.12391419e-03 4.98300127e-04\n",
      " 3.83555493e-03 6.65747328e-04 6.83186343e-03 2.95138475e-03\n",
      " 6.19105631e-05]\n",
      "Seed: blac\n",
      "seq: [19, 11, 2, 15]\n",
      "padded: [[ 0  0  0  0  0  0  0  0  0  0  0  0  0  0  0  0  0  0  0  0  0  0  0  0\n",
      "   0  0  0  0 19 11  2 15]]\n",
      "\u001b[1m1/1\u001b[0m \u001b[32m━━━━━━━━━━━━━━━━━━━━\u001b[0m\u001b[37m\u001b[0m \u001b[1m0s\u001b[0m 13ms/step\n",
      "pred: [1.62088116e-13 5.92782279e-04 1.33572111e-03 1.39166545e-02\n",
      " 1.43546031e-05 6.43005420e-04 3.40459919e-05 1.70058222e-03\n",
      " 3.58487293e-03 3.88035108e-03 1.08075634e-04 2.89957534e-04\n",
      " 6.80521945e-04 1.87537400e-03 4.55587695e-04 1.10398897e-03\n",
      " 5.15704742e-04 6.25094865e-04 9.64556038e-01 8.47671836e-05\n",
      " 2.35573901e-03 1.05010357e-03 3.44285982e-05 2.71158642e-05\n",
      " 7.68621685e-05 6.00374642e-06 3.89588560e-04 6.08860148e-07\n",
      " 6.20674618e-05]\n",
      "Seed: black\n",
      "seq: [19, 11, 2, 15, 18]\n",
      "padded: [[ 0  0  0  0  0  0  0  0  0  0  0  0  0  0  0  0  0  0  0  0  0  0  0  0\n",
      "   0  0  0 19 11  2 15 18]]\n",
      "\u001b[1m1/1\u001b[0m \u001b[32m━━━━━━━━━━━━━━━━━━━━\u001b[0m\u001b[37m\u001b[0m \u001b[1m0s\u001b[0m 13ms/step\n",
      "pred: [9.1018209e-13 3.3272412e-02 6.1768043e-04 1.2383588e-02 5.9864298e-05\n",
      " 2.5215736e-04 1.1203638e-03 9.4460993e-04 8.6976546e-01 1.8201629e-03\n",
      " 4.4451378e-02 6.0802564e-04 2.2579068e-03 1.7678471e-04 5.2999593e-03\n",
      " 1.4546477e-04 3.1421307e-04 1.2494158e-03 1.5305076e-03 2.7339712e-03\n",
      " 2.5800655e-03 2.3727641e-03 1.2806396e-02 1.8003946e-03 4.2640540e-04\n",
      " 3.7176919e-04 4.3232612e-05 3.3556548e-04 2.5943996e-04]\n",
      "Seed: black \n",
      "seq: [19, 11, 2, 15, 18, 8]\n",
      "padded: [[ 0  0  0  0  0  0  0  0  0  0  0  0  0  0  0  0  0  0  0  0  0  0  0  0\n",
      "   0  0 19 11  2 15 18  8]]\n",
      "\u001b[1m1/1\u001b[0m \u001b[32m━━━━━━━━━━━━━━━━━━━━\u001b[0m\u001b[37m\u001b[0m \u001b[1m0s\u001b[0m 12ms/step\n",
      "pred: [2.8971096e-11 3.9996286e-03 2.8858140e-02 1.4651805e-02 2.9966587e-02\n",
      " 2.2291347e-02 1.0218169e-02 1.8220635e-02 9.4514422e-04 8.1897594e-02\n",
      " 1.0651360e-01 6.5507919e-02 5.7502158e-02 4.6007879e-02 5.9430294e-02\n",
      " 5.0522022e-02 1.0594851e-02 5.0097551e-02 3.0875918e-02 7.8173131e-02\n",
      " 5.8420874e-02 4.5456048e-03 4.7107443e-02 5.4343816e-02 2.3590790e-02\n",
      " 2.3594016e-02 7.2566913e-03 3.8789918e-03 1.0987274e-02]\n",
      "Seed: black s\n",
      "seq: [19, 11, 2, 15, 18, 8, 10]\n",
      "padded: [[ 0  0  0  0  0  0  0  0  0  0  0  0  0  0  0  0  0  0  0  0  0  0  0  0\n",
      "   0 19 11  2 15 18  8 10]]\n",
      "\u001b[1m1/1\u001b[0m \u001b[32m━━━━━━━━━━━━━━━━━━━━\u001b[0m\u001b[37m\u001b[0m \u001b[1m0s\u001b[0m 13ms/step\n",
      "pred: [2.9553532e-10 2.1008693e-04 6.3972823e-02 4.0730808e-02 1.8369745e-02\n",
      " 4.2492412e-02 1.1610222e-04 1.0262441e-02 4.8049544e-05 3.7819043e-01\n",
      " 2.1956724e-03 1.7986380e-02 1.1551458e-02 5.1028665e-02 5.3818146e-04\n",
      " 3.2649547e-02 7.4499510e-02 8.7004658e-03 7.2318852e-02 1.4371953e-03\n",
      " 1.3557746e-01 1.1857857e-03 2.3364522e-02 4.5595243e-05 2.2321437e-04\n",
      " 1.2540302e-03 3.1626559e-04 1.2977503e-05 1.0721376e-02]\n",
      "Seed: black st\n",
      "seq: [19, 11, 2, 15, 18, 8, 10, 9]\n",
      "padded: [[ 0  0  0  0  0  0  0  0  0  0  0  0  0  0  0  0  0  0  0  0  0  0  0  0\n",
      "  19 11  2 15 18  8 10  9]]\n",
      "\u001b[1m1/1\u001b[0m \u001b[32m━━━━━━━━━━━━━━━━━━━━\u001b[0m\u001b[37m\u001b[0m \u001b[1m0s\u001b[0m 13ms/step\n",
      "pred: [4.6473008e-12 1.0853418e-03 3.1289825e-01 3.1536925e-01 1.9997481e-01\n",
      " 1.0394407e-01 2.3235958e-03 8.0257664e-03 4.9247126e-05 6.2843226e-04\n",
      " 4.0552003e-04 1.4716287e-02 8.7692793e-03 9.5034139e-03 5.5463338e-06\n",
      " 4.2945100e-03 1.0713275e-02 1.1428084e-03 9.0583824e-05 1.2041487e-03\n",
      " 1.9276848e-03 1.3939480e-03 1.3267015e-03 2.0196171e-06 3.5554793e-05\n",
      " 6.1462357e-05 9.9370991e-05 9.0869125e-06 8.8582745e-08]\n",
      "Seed: black ste\n",
      "seq: [19, 11, 2, 15, 18, 8, 10, 9, 3]\n",
      "padded: [[ 0  0  0  0  0  0  0  0  0  0  0  0  0  0  0  0  0  0  0  0  0  0  0 19\n",
      "  11  2 15 18  8 10  9  3]]\n",
      "\u001b[1m1/1\u001b[0m \u001b[32m━━━━━━━━━━━━━━━━━━━━\u001b[0m\u001b[37m\u001b[0m \u001b[1m0s\u001b[0m 13ms/step\n",
      "pred: [1.69946036e-11 9.42024635e-05 9.27144865e-05 5.52465856e-01\n",
      " 1.13823846e-01 2.32103653e-03 5.41564487e-02 9.12973246e-06\n",
      " 5.41452646e-05 2.52726674e-03 2.02048523e-03 1.81480478e-02\n",
      " 3.23279784e-03 6.82716817e-03 7.38319242e-03 8.42174795e-03\n",
      " 4.64344583e-03 3.21908072e-02 2.74438178e-04 3.56451375e-03\n",
      " 1.39152944e-01 2.64621103e-05 4.11343351e-02 2.33114755e-04\n",
      " 2.26076436e-03 1.72133616e-03 2.48863082e-03 6.32648123e-04\n",
      " 9.84881408e-05]\n",
      "Seed: black stee\n",
      "seq: [19, 11, 2, 15, 18, 8, 10, 9, 3, 3]\n",
      "padded: [[ 0  0  0  0  0  0  0  0  0  0  0  0  0  0  0  0  0  0  0  0  0  0 19 11\n",
      "   2 15 18  8 10  9  3  3]]\n",
      "\u001b[1m1/1\u001b[0m \u001b[32m━━━━━━━━━━━━━━━━━━━━\u001b[0m\u001b[37m\u001b[0m \u001b[1m0s\u001b[0m 14ms/step\n",
      "pred: [7.72745786e-14 1.31984160e-03 1.41324581e-05 1.52372260e-04\n",
      " 7.24819582e-03 4.76376845e-05 1.67357374e-03 2.70611727e-05\n",
      " 2.22105482e-05 5.38807875e-03 6.09506504e-04 9.26351786e-01\n",
      " 3.75062809e-04 1.04305400e-04 2.51980573e-02 2.50813609e-04\n",
      " 5.17957960e-04 2.16785576e-02 1.85654237e-04 1.11634482e-03\n",
      " 5.74704318e-04 1.00895828e-04 2.96488381e-03 6.39383215e-04\n",
      " 1.77645928e-03 1.13023074e-04 1.44711684e-03 3.31249248e-06\n",
      " 9.90881308e-05]\n",
      "Seed: black steel\n",
      "seq: [19, 11, 2, 15, 18, 8, 10, 9, 3, 3, 11]\n",
      "padded: [[ 0  0  0  0  0  0  0  0  0  0  0  0  0  0  0  0  0  0  0  0  0 19 11  2\n",
      "  15 18  8 10  9  3  3 11]]\n",
      "\u001b[1m1/1\u001b[0m \u001b[32m━━━━━━━━━━━━━━━━━━━━\u001b[0m\u001b[37m\u001b[0m \u001b[1m0s\u001b[0m 13ms/step\n",
      "pred: [4.82903370e-11 1.14245266e-01 1.41696051e-01 2.34117821e-01\n",
      " 1.88820194e-02 1.88744009e-01 9.41148319e-05 2.31101341e-03\n",
      " 2.79217493e-03 1.54445423e-02 2.11243741e-02 8.01817980e-03\n",
      " 1.46386800e-02 2.48273776e-04 5.38379536e-04 7.01119367e-04\n",
      " 1.68840494e-02 3.49953100e-02 1.18578051e-03 9.35799908e-03\n",
      " 1.01294899e-02 4.24383804e-02 1.07152455e-01 1.65862060e-04\n",
      " 4.04433464e-04 1.00149447e-02 4.38375399e-04 1.31835972e-04\n",
      " 3.10503738e-03]\n",
      "Seed: black steele\n",
      "seq: [19, 11, 2, 15, 18, 8, 10, 9, 3, 3, 11, 3]\n",
      "padded: [[ 0  0  0  0  0  0  0  0  0  0  0  0  0  0  0  0  0  0  0  0 19 11  2 15\n",
      "  18  8 10  9  3  3 11  3]]\n",
      "\u001b[1m1/1\u001b[0m \u001b[32m━━━━━━━━━━━━━━━━━━━━\u001b[0m\u001b[37m\u001b[0m \u001b[1m0s\u001b[0m 13ms/step\n",
      "pred: [1.1958724e-09 1.7836286e-01 1.5999051e-03 5.1127944e-02 3.3745587e-02\n",
      " 4.5165345e-03 1.2593837e-03 1.2210586e-04 1.7918088e-03 8.3098978e-02\n",
      " 1.3270107e-01 2.8074779e-02 2.6565623e-03 1.7699852e-04 9.3597714e-03\n",
      " 2.7080271e-03 2.0715371e-03 2.1475099e-02 2.9867637e-04 4.4679339e-03\n",
      " 2.2622983e-03 4.4238221e-02 3.8206008e-01 1.0315577e-03 7.1661168e-04\n",
      " 2.8472880e-03 6.1793881e-04 1.4755774e-03 5.1348321e-03]\n",
      "Seed: black steelew\n",
      "seq: [19, 11, 2, 15, 18, 8, 10, 9, 3, 3, 11, 3, 22]\n",
      "padded: [[ 0  0  0  0  0  0  0  0  0  0  0  0  0  0  0  0  0  0  0 19 11  2 15 18\n",
      "   8 10  9  3  3 11  3 22]]\n",
      "\u001b[1m1/1\u001b[0m \u001b[32m━━━━━━━━━━━━━━━━━━━━\u001b[0m\u001b[37m\u001b[0m \u001b[1m0s\u001b[0m 13ms/step\n",
      "pred: [4.5836154e-13 3.7520132e-03 4.6423196e-05 3.1042942e-05 1.5668978e-04\n",
      " 2.4456854e-04 9.8354416e-05 3.1958223e-06 2.5521622e-03 4.3416598e-01\n",
      " 5.1902938e-01 2.4635054e-04 2.0507930e-03 9.8583077e-05 3.3829553e-04\n",
      " 5.5234526e-05 1.4147800e-05 1.5820272e-04 2.0220941e-04 7.1661641e-05\n",
      " 4.8592853e-04 5.7539943e-04 3.5888943e-04 2.7589872e-03 1.1040870e-05\n",
      " 2.8887258e-05 6.2429663e-06 1.5389869e-05 3.2443963e-02]\n",
      "Seed: black steelews\n",
      "seq: [19, 11, 2, 15, 18, 8, 10, 9, 3, 3, 11, 3, 22, 10]\n",
      "padded: [[ 0  0  0  0  0  0  0  0  0  0  0  0  0  0  0  0  0  0 19 11  2 15 18  8\n",
      "  10  9  3  3 11  3 22 10]]\n",
      "\u001b[1m1/1\u001b[0m \u001b[32m━━━━━━━━━━━━━━━━━━━━\u001b[0m\u001b[37m\u001b[0m \u001b[1m0s\u001b[0m 13ms/step\n",
      "pred: [1.3806922e-13 9.6021682e-01 6.1900693e-04 2.0722868e-03 1.3650848e-05\n",
      " 3.4740481e-03 3.4660396e-05 1.3208208e-03 1.7728962e-02 8.9922850e-04\n",
      " 1.1583989e-02 4.1618603e-04 1.4519969e-04 6.7661364e-05 1.5038355e-04\n",
      " 1.8609964e-05 6.7377690e-04 4.7416321e-05 1.6163869e-05 8.3675106e-05\n",
      " 1.3701447e-04 1.7263145e-04 6.5566514e-05 1.9192963e-05 9.9510316e-07\n",
      " 1.5062330e-05 4.5388992e-06 6.8502823e-07 1.6886900e-06]\n"
     ]
    }
   ],
   "source": [
    "generate_names('b')"
   ]
  }
 ],
 "metadata": {
  "accelerator": "GPU",
  "colab": {
   "provenance": [
    {
     "file_id": "1TsXMSezKzlS-q-94mY2OCa7s8kznJOvg",
     "timestamp": 1735180638897
    }
   ]
  },
  "kernelspec": {
   "display_name": "Python 3",
   "language": "python",
   "name": "python3"
  },
  "language_info": {
   "codemirror_mode": {
    "name": "ipython",
    "version": 3
   },
   "file_extension": ".py",
   "mimetype": "text/x-python",
   "name": "python",
   "nbconvert_exporter": "python",
   "pygments_lexer": "ipython3",
   "version": "3.12.2"
  }
 },
 "nbformat": 4,
 "nbformat_minor": 0
}
